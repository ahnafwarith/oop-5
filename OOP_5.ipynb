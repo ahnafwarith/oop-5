{
  "nbformat": 4,
  "nbformat_minor": 0,
  "metadata": {
    "colab": {
      "name": "OOP_5.ipynb",
      "provenance": [],
      "collapsed_sections": [],
      "authorship_tag": "ABX9TyPNB6sFuVeo5Lm/s26p7VeS",
      "include_colab_link": true
    },
    "kernelspec": {
      "name": "python3",
      "display_name": "Python 3"
    },
    "language_info": {
      "name": "python"
    }
  },
  "cells": [
    {
      "cell_type": "markdown",
      "metadata": {
        "id": "view-in-github",
        "colab_type": "text"
      },
      "source": [
        "<a href=\"https://colab.research.google.com/github/ahnafwarith/oop-5/blob/main/OOP_5.ipynb\" target=\"_parent\"><img src=\"https://colab.research.google.com/assets/colab-badge.svg\" alt=\"Open In Colab\"/></a>"
      ]
    },
    {
      "cell_type": "markdown",
      "source": [
        "1"
      ],
      "metadata": {
        "id": "zAk-FWEnpJCV"
      }
    },
    {
      "cell_type": "code",
      "execution_count": 2,
      "metadata": {
        "colab": {
          "base_uri": "https://localhost:8080/"
        },
        "id": "TTrgitdHXuaS",
        "outputId": "b157405e-9cd9-4dce-fb7f-01d0dfb399d0"
      },
      "outputs": [
        {
          "output_type": "stream",
          "name": "stdout",
          "text": [
            "Quiz 1 (out of 10): 10\n",
            "Quiz 2 (out of 10): 8\n",
            "Lab (out of 30): 30\n",
            "Mid (out of 20): 20\n",
            "Final (out of 30): 29\n",
            "Total marks: 97\n"
          ]
        }
      ],
      "source": [
        "#Write your code here\n",
        "class Marks:\n",
        "  def __init__(self,x):\n",
        "    self.mark = x\n",
        "  def __add__(self,other):\n",
        "    total = self.mark + other.mark\n",
        "    return Marks(total)\n",
        "#Do not change the following lines of code\n",
        "Q1 = Marks(int(input(\"Quiz 1 (out of 10): \")))\n",
        "Q2 = Marks(int(input(\"Quiz 2 (out of 10): \")))\n",
        "Lab = Marks(int(input(\"Lab (out of 30): \")))\n",
        "Mid = Marks(int(input(\"Mid (out of 20): \")))\n",
        "Final = Marks(int(input(\"Final (out of 30): \")))\n",
        "total = Q1 + Q2 + Lab + Mid + Final\n",
        "print(\"Total marks: {}\".format(total.mark))\n",
        "\n",
        "# Output\n",
        "# Sample Input 1:\n",
        "# Quiz 1 (out of 10): 10\n",
        "# Quiz 2 (out of 10): 10\n",
        "# Lab (out of 30): 30\n",
        "# Mid (out of 20): 20\n",
        "# Final (out of 30): 30\n",
        "# Sample Output 1:\n",
        "# Total marks: 100\n",
        "# Sample Input 2:\n",
        "# Quiz 1 (out of 10): 10\n",
        "# Quiz 2 (out of 10): 8\n",
        "# Lab (out of 30): 30\n",
        "# Mid (out of 20): 20\n",
        "# Final (out of 30): 29\n",
        "# Sample Output 2:\n",
        "# Total marks: 97"
      ]
    },
    {
      "cell_type": "markdown",
      "source": [
        "2"
      ],
      "metadata": {
        "id": "6V3YchonpMh8"
      }
    },
    {
      "cell_type": "code",
      "source": [
        "class Teacher:\n",
        "  def __init__(self,name,sub):\n",
        "    self.__name = name\n",
        "    self.__sub = sub\n",
        "    self.__courses = []\n",
        "  \n",
        "  def addCourse(self,obj):\n",
        "    self.__courses.append(obj.name)\n",
        "\n",
        "  def printDetail(self):\n",
        "   print(\"====================================\")\n",
        "   print(f\"Name: {self.__name}\")\n",
        "   print(f\"Department: {self.__sub}\")\n",
        "   print(\"List of courses\")\n",
        "   print(\"====================================\")\n",
        "   for course in self.__courses: print(course)\n",
        "   print(\"====================================\")\n",
        "\n",
        "class Course:\n",
        "  def __init__(self,name):\n",
        "    self.name = name\n",
        "\n",
        "t1 = Teacher(\"Saad Abdullah\", \"CSE\")\n",
        "t2 = Teacher(\"Mumit Khan\", \"CSE\")\n",
        "t3 = Teacher(\"Sadia Kazi\", \"CSE\")\n",
        "c1 = Course(\"CSE 110 Programming Language I\")\n",
        "c2 = Course(\"CSE 111 Programming Language-II\")\n",
        "c3 = Course(\"CSE 220 Data Structures\")\n",
        "c4 = Course(\"CSE 221 Algorithms\")\n",
        "c5 = Course(\"CCSE 230 Discrete Mathematics\")\n",
        "c6 = Course(\"CSE 310 Object Oriented Programming\")\n",
        "c7 = Course(\"CSE 320 Data Communications\")\n",
        "c8 = Course(\"CSE 340 Computer Architecture\")\n",
        "t1.addCourse(c1)\n",
        "t1.addCourse(c2)\n",
        "t2.addCourse(c3)\n",
        "t2.addCourse(c4)\n",
        "t2.addCourse(c5)\n",
        "t3.addCourse(c6)\n",
        "t3.addCourse(c7)\n",
        "t3.addCourse(c8)\n",
        "t1.printDetail()\n",
        "t2.printDetail()\n",
        "t3.printDetail()\n",
        "\n",
        "# Output:\n",
        "# ====================================\n",
        "# Name: Saad Abdullah\n",
        "# Department: CSE\n",
        "# List of courses\n",
        "# ====================================\n",
        "# CSE 110 Programming Language I\n",
        "# CSE 111 Programming Language-II\n",
        "# ====================================\n",
        "# ====================================\n",
        "# Name: Mumit Khan\n",
        "# Department: CSE\n",
        "# List of courses\n",
        "# ====================================\n",
        "# CSE 220 Data Structures\n",
        "# CSE 221 Algorithms\n",
        "# CCSE 230 Discrete Mathematics\n",
        "# ====================================\n",
        "# ====================================\n",
        "# Name: Sadia Kazi\n",
        "# Department: CSE\n",
        "# List of courses\n",
        "# ====================================\n",
        "# CSE 310 Object Oriented Programming\n",
        "# CSE 320 Data Communications\n",
        "# CSE 340 Computer Architecture\n",
        "# ===================================="
      ],
      "metadata": {
        "colab": {
          "base_uri": "https://localhost:8080/"
        },
        "id": "cquwvP7cYWik",
        "outputId": "ce2f9465-65fb-4252-8c22-e5a30e8d817a"
      },
      "execution_count": null,
      "outputs": [
        {
          "output_type": "stream",
          "name": "stdout",
          "text": [
            "====================================\n",
            "Name: Saad Abdullah\n",
            "Department: CSE\n",
            "List of courses\n",
            "====================================\n",
            "CSE 110 Programming Language I\n",
            "CSE 111 Programming Language-II\n",
            "====================================\n",
            "====================================\n",
            "Name: Mumit Khan\n",
            "Department: CSE\n",
            "List of courses\n",
            "====================================\n",
            "CSE 220 Data Structures\n",
            "CSE 221 Algorithms\n",
            "CCSE 230 Discrete Mathematics\n",
            "====================================\n",
            "====================================\n",
            "Name: Sadia Kazi\n",
            "Department: CSE\n",
            "List of courses\n",
            "====================================\n",
            "CSE 310 Object Oriented Programming\n",
            "CSE 320 Data Communications\n",
            "CSE 340 Computer Architecture\n",
            "====================================\n"
          ]
        }
      ]
    },
    {
      "cell_type": "code",
      "source": [
        "# Write your code here for subtasks 1-4\n",
        "class Team:\n",
        "  def __init__(self,name=\"\"):\n",
        "    self.name = name\n",
        "    self.players = []\n",
        "\n",
        "  def setName(self,name):\n",
        "    self.name = name\n",
        "\n",
        "  def addPlayer(self,player):\n",
        "    self.players.append(player.name)\n",
        "\n",
        "  def printDetail(self):\n",
        "    print(\"=====================\")\n",
        "    print(f\"Team: {self.name}\")\n",
        "    print(\"List of Players:\")\n",
        "    print(f\"{self.players}\")\n",
        "    print(\"=====================\")\n",
        "\n",
        "class Player:\n",
        "  def __init__(self,name=\"\"):\n",
        "    self.name = name\n",
        "\n",
        "b = Team()\n",
        "b.setName('Bangladesh')\n",
        "mashrafi = Player(\"Mashrafi\")\n",
        "b.addPlayer(mashrafi)\n",
        "tamim = Player(\"Tamim\")\n",
        "b.addPlayer(tamim)\n",
        "b.printDetail()\n",
        "a = Team(\"Australia\")\n",
        "ponting = Player(\"Ponting\")\n",
        "a.addPlayer(ponting)\n",
        "lee = Player(\"Lee\")\n",
        "a.addPlayer(lee)\n",
        "a.printDetail()\n",
        "\n",
        "# Output:\n",
        "# =====================\n",
        "# Team: Bangladesh\n",
        "# List of Players:\n",
        "# ['Mashrafi', 'Tamim']\n",
        "# =====================\n",
        "# =====================\n",
        "# Team: Australia\n",
        "# List of Players:\n",
        "# ['Ponting', 'Lee']\n",
        "# ====================="
      ],
      "metadata": {
        "colab": {
          "base_uri": "https://localhost:8080/"
        },
        "id": "lUSgdwpqYhGw",
        "outputId": "a9365b54-ee90-45f2-9fe7-0e545617ee84"
      },
      "execution_count": null,
      "outputs": [
        {
          "output_type": "stream",
          "name": "stdout",
          "text": [
            "=====================\n",
            "Team: Bangladesh\n",
            "List of Players:\n",
            "['Mashrafi', 'Tamim']\n",
            "=====================\n",
            "=====================\n",
            "Team: Australia\n",
            "List of Players:\n",
            "['Ponting', 'Lee']\n",
            "=====================\n"
          ]
        }
      ]
    },
    {
      "cell_type": "code",
      "source": [
        "#Write your code here\n",
        "class Color:\n",
        "  def __init__(self,x):\n",
        "    self.clr = x\n",
        "\n",
        "  def __add__(self,other):\n",
        "    check = self.clr + other.clr\n",
        "    if check == 'redyellow' or check == 'yellowred': res = 'Orange' \n",
        "    if check == 'redblue' or check == 'bluered': res = 'Violet' \n",
        "    if check == 'yellowblue' or check == 'blueyellow': res = 'Green' \n",
        "    return Color(res)\n",
        "#Do not change the following lines of code\n",
        "C1 = Color(input(\"First Color: \").lower())\n",
        "C2 = Color(input(\"Second Color: \").lower())\n",
        "C3 = C1 + C2\n",
        "print(\"Color formed:\", C3.clr)\n",
        "\n",
        "# Sample Input 1:\n",
        "# First Color: red\n",
        "# Second Color: yellow\n",
        "# Sample Output 1:\n",
        "# Color formed: Orange\n",
        "# Sample Input 2:\n",
        "# First Color: red\n",
        "# Second Color: blue\n",
        "# Sample Output 2:\n",
        "# Color formed: Violet\n",
        "# Sample Input 3:\n",
        "# First Color: yellow\n",
        "# Second Color: BLUE\n",
        "# Sample Output 3:\n",
        "# Color formed: Green"
      ],
      "metadata": {
        "id": "ykxdV698Yt-J",
        "colab": {
          "base_uri": "https://localhost:8080/"
        },
        "outputId": "99f5ead9-e68e-4f0c-f4b0-bfa2a564890f"
      },
      "execution_count": null,
      "outputs": [
        {
          "output_type": "stream",
          "name": "stdout",
          "text": [
            "First Color: blue\n",
            "Second Color: red\n",
            "Color formed: Violet\n"
          ]
        }
      ]
    },
    {
      "cell_type": "markdown",
      "source": [
        "5"
      ],
      "metadata": {
        "id": "BbyxGHWBpOiD"
      }
    },
    {
      "cell_type": "code",
      "source": [
        "import math\n",
        "class Circle:\n",
        "  def __init__(self,x):\n",
        "    self.__radius = x\n",
        "\n",
        "  def getRadius(self):\n",
        "    OO = self.__radius\n",
        "    return OO\n",
        "  \n",
        "  def area(self):\n",
        "    area = math.pi * (self.__radius**2)\n",
        "    return area\n",
        "\n",
        "  def __add__(self,other):\n",
        "    total = self.__radius + other.__radius\n",
        "    return Circle(total)\n",
        "# Write your code here for subtasks 1-5\n",
        "c1 = Circle(4)\n",
        "print(\"First circle radius:\" , c1.getRadius())\n",
        "print(\"First circle area:\" ,c1.area())\n",
        "c2 = Circle(5)\n",
        "print(\"Second circle radius:\" ,c2.getRadius())\n",
        "print(\"Second circle area:\" ,c2.area())\n",
        "c3 = c1 + c2\n",
        "print(\"Third circle radius:\" ,c3.getRadius())\n",
        "print(\"Third circle area:\" ,c3.area())\n",
        "\n",
        "# Output:\n",
        "# First circle radius: 4\n",
        "# First circle area: 50.26548245743669\n",
        "# Second circle radius: 5\n",
        "# Second circle area: 78.53981633974483\n",
        "# Third circle radius: 9\n",
        "# Third circle area: 254.46900494077323"
      ],
      "metadata": {
        "colab": {
          "base_uri": "https://localhost:8080/"
        },
        "id": "3ofyE2DPYuIg",
        "outputId": "a6520883-46bf-4ae2-a0c6-e1afd020624c"
      },
      "execution_count": null,
      "outputs": [
        {
          "output_type": "stream",
          "name": "stdout",
          "text": [
            "First circle radius: 4\n",
            "First circle area: 50.26548245743669\n",
            "Second circle radius: 5\n",
            "Second circle area: 78.53981633974483\n",
            "Third circle radius: 9\n",
            "Third circle area: 254.46900494077323\n"
          ]
        }
      ]
    },
    {
      "cell_type": "markdown",
      "source": [
        "6\n"
      ],
      "metadata": {
        "id": "3LmwfQkDpQ6V"
      }
    },
    {
      "cell_type": "code",
      "source": [
        "class Triangle:\n",
        "  def __init__(self,x,y):\n",
        "    self.__base = x\n",
        "    self.__height = y\n",
        "  \n",
        "  def getBase(self):\n",
        "    return self.__base\n",
        "  def getHeight(self):\n",
        "    return self.__height\n",
        "\n",
        "  def setBase(self,base):\n",
        "    self.__base = base\n",
        "  def setHeight(self,height):\n",
        "    self.__height = height\n",
        "\n",
        "  def area(self):\n",
        "    area = (self.__base * self.__height)/2\n",
        "    return area\n",
        "\n",
        "  def __sub__(self,other):\n",
        "    height = self.__height - other.__height\n",
        "    base = self.__base - other.__base\n",
        "    return Triangle(base,height)\n",
        "# Write your code here for subtasks 1-5\n",
        "t1 = Triangle(10, 5)\n",
        "print(\"First Triangle Base:\" , t1.getBase())\n",
        "print(\"First Triangle Height:\" , t1.getHeight())\n",
        "print(\"First Triangle area:\" ,t1.area())\n",
        "t2 = Triangle(5, 3)\n",
        "print(\"Second Triangle Base:\" , t2.getBase())\n",
        "print(\"Second Triangle Height:\" , t2.getHeight())\n",
        "print(\"Second Triangle area:\" ,t2.area())\n",
        "t3 = t1 - t2\n",
        "print(\"Third Triangle Base:\" , t3.getBase())\n",
        "print(\"Third Triangle Height:\" , t3.getHeight())\n",
        "print(\"Third Triangle area:\" ,t3.area())\n",
        "\n",
        "# Output:\n",
        "# First Triangle Base: 10\n",
        "# First Triangle Height: 5\n",
        "# First Triangle area: 25.0\n",
        "# Second Triangle Base: 5\n",
        "# Second Triangle Height: 3\n",
        "# Second Triangle area: 7.5\n",
        "# Third Triangle Base: 5\n",
        "# Third Triangle Height: 2\n",
        "# Third Triangle area: 5.0"
      ],
      "metadata": {
        "colab": {
          "base_uri": "https://localhost:8080/"
        },
        "id": "pmfYQkfkYuPw",
        "outputId": "6e3fa5bc-abc4-4bb1-c329-b1242a422c06"
      },
      "execution_count": null,
      "outputs": [
        {
          "output_type": "stream",
          "name": "stdout",
          "text": [
            "First Triangle Base: 10\n",
            "First Triangle Height: 5\n",
            "First Triangle area: 25.0\n",
            "Second Triangle Base: 5\n",
            "Second Triangle Height: 3\n",
            "Second Triangle area: 7.5\n",
            "Third Triangle Base: 5\n",
            "Third Triangle Height: 2\n",
            "Third Triangle area: 5.0\n"
          ]
        }
      ]
    },
    {
      "cell_type": "code",
      "source": [
        "class Dolls:\n",
        "  def __init__(self,name,number):\n",
        "    self.gift = name\n",
        "    self.number = number\n",
        "  \n",
        "  def __gt__(self,other):\n",
        "    if self.number > other.number:\n",
        "      return True\n",
        "    else:\n",
        "      return False\n",
        "\n",
        "  def __add__(self,other):\n",
        "    nameV = self.gift + \" \" + other.gift\n",
        "    numberV = self.number + other.number\n",
        "    return Dolls(nameV,numberV)\n",
        "\n",
        "  def detail(self):\n",
        "    return f'Doll: {self.gift}\\nTotal Price: {self.number} taka'\n",
        "# Write your code here\n",
        "obj_1 = Dolls(\"Tweety\", 2500)\n",
        "print(obj_1.detail())\n",
        "if obj_1 > obj_1:\n",
        "  print(\"Congratulations! You get the Tweety as a gift!\")\n",
        "else:\n",
        "  print(\"Thank you!\")\n",
        "print(\"=========================\")\n",
        "obj_2 = Dolls(\"Daffy Duck\", 1800)\n",
        "print(obj_2.detail())\n",
        "if obj_2 > obj_1:\n",
        "  print(\"Congratulations! You get the Tweety as a gift!\")\n",
        "else:\n",
        "  print(\"Thank you!\")\n",
        "print(\"=========================\")\n",
        "obj_3 = Dolls(\"Bugs Bunny\", 3000)\n",
        "print(obj_3.detail())\n",
        "if obj_3 > obj_1:\n",
        "  print(\"Congratulations! You get the Tweety as a gift!\")\n",
        "else:\n",
        "  print(\"Thank you!\")\n",
        "print(\"=========================\")\n",
        "obj_4 = Dolls(\"Porky Pig\", 1500)\n",
        "print(obj_4.detail())\n",
        "if obj_4 > obj_1:\n",
        "  print(\"Congratulations! You get the Tweety as a gift!\")\n",
        "else:\n",
        "  print(\"Thank you!\")\n",
        "print(\"=========================\")\n",
        "obj_5 = obj_2 + obj_3\n",
        "print(obj_5.detail())\n",
        "if obj_5 > obj_1:\n",
        "  print(\"Congratulations! You get the Tweety as a gift!\")\n",
        "else:\n",
        "  print(\"Thank you!\")\n",
        "\n",
        "# Output:\n",
        "# Doll: Tweety\n",
        "# Total Price: 2500 taka\n",
        "# Thank you!\n",
        "# =========================\n",
        "# Doll: Daffy Duck\n",
        "# Total Price: 1800 taka\n",
        "# Thank you!\n",
        "# =========================\n",
        "# Doll: Bugs Bunny\n",
        "# Total Price: 3000 taka\n",
        "# Congratulations! You get the Tweety as a gift!\n",
        "# =========================\n",
        "# Doll: Porky Pig\n",
        "# Total Price: 1500 taka\n",
        "# Thank you!\n",
        "# =========================\n",
        "# Dolls: Daffy Duck Bugs Bunny\n",
        "# Total Price: 4800 taka\n",
        "# Congratulations! You get the Tweety as a gift!"
      ],
      "metadata": {
        "id": "6ifyZD9cY9Hq",
        "colab": {
          "base_uri": "https://localhost:8080/"
        },
        "outputId": "af455b18-2793-4b6f-ab3c-4e65ad74c6eb"
      },
      "execution_count": 10,
      "outputs": [
        {
          "output_type": "stream",
          "name": "stdout",
          "text": [
            "Doll: Tweety\n",
            "Total Price: 2500 taka\n",
            "Thank you!\n",
            "=========================\n",
            "Doll: Daffy Duck\n",
            "Total Price: 1800 taka\n",
            "Thank you!\n",
            "=========================\n",
            "Doll: Bugs Bunny\n",
            "Total Price: 3000 taka\n",
            "Congratulations! You get the Tweety as a gift!\n",
            "=========================\n",
            "Doll: Porky Pig\n",
            "Total Price: 1500 taka\n",
            "Thank you!\n",
            "=========================\n",
            "Doll: Daffy Duck Bugs Bunny\n",
            "Total Price: 4800 taka\n",
            "Congratulations! You get the Tweety as a gift!\n"
          ]
        }
      ]
    },
    {
      "cell_type": "code",
      "source": [
        "class Coordinates:\n",
        "  def __init__(self,x,y):\n",
        "    self.x = x\n",
        "    self.y = y\n",
        "\n",
        "  def __sub__(self,other):\n",
        "    fX = self.x - other.x\n",
        "    fY = self.y - other.y\n",
        "    return Coordinates(fX,fY)\n",
        "  \n",
        "  def __mul__(self,other):\n",
        "    fX = self.x * other.x\n",
        "    fY = self.y * other.y\n",
        "    return Coordinates(fX,fY)\n",
        "\n",
        "  def __eq__(self,other):\n",
        "    if self.x == other.x and self.y == other.y:\n",
        "      return f\"The calculated coordinates are the same.\"\n",
        "    else:\n",
        "      return f\"The calculated coordinates are NOT the same.\"\n",
        "  \n",
        "  def detail(self):\n",
        "    return (self.x,self.y)\n",
        "#Write your code here\n",
        "#Do not change the following lines of code\n",
        "p1 = Coordinates(int(input()),int(input()))\n",
        "p2 = Coordinates(int(input()),int(input()))\n",
        "p4 = p1 - p2\n",
        "print(p4.detail())\n",
        "p5 = p1 * p2\n",
        "print(p5.detail())\n",
        "point_check = (p4 == p5)\n",
        "print(point_check)\n",
        "\n",
        "# Sample Input 1:\n",
        "# 1\n",
        "# 2\n",
        "# 3\n",
        "# 4\n",
        "# Sample Output 1:\n",
        "# (-2,-2)\n",
        "# (3,8)\n",
        "# The calculated coordinates are NOT the same.\n",
        "# Sample Input 2:\n",
        "# 0\n",
        "# 0\n",
        "# 0\n",
        "# 0\n",
        "# Sample Output 2:\n",
        "# (0,0)\n",
        "# (0,0)\n",
        "# The calculated coordinates are the same."
      ],
      "metadata": {
        "colab": {
          "base_uri": "https://localhost:8080/"
        },
        "id": "O42b1jTlZAzS",
        "outputId": "3e3583e4-6d3f-4aba-c6a1-46e99170d763"
      },
      "execution_count": null,
      "outputs": [
        {
          "output_type": "stream",
          "name": "stdout",
          "text": [
            "1\n",
            "2\n",
            "3\n",
            "4\n",
            "(-2, -2)\n",
            "(3, 8)\n",
            "The calculated coordinates are NOT the same.\n"
          ]
        }
      ]
    }
  ]
}